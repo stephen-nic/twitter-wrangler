{
 "cells": [
  {
   "cell_type": "code",
   "execution_count": 1,
   "id": "14061e69-53c3-4331-954e-c04743d34c28",
   "metadata": {
    "tags": []
   },
   "outputs": [],
   "source": [
    "import os\n",
    "from hydra import initialize, initialize_config_module, initialize_config_dir, compose\n",
    "from omegaconf import OmegaConf"
   ]
  },
  {
   "cell_type": "code",
   "execution_count": 3,
   "id": "2bd2c0d1-d060-4107-9dc9-e055f4731de4",
   "metadata": {},
   "outputs": [
    {
     "name": "stdout",
     "output_type": "stream",
     "text": [
      "{'application': {'consumer_key': 'HIDDEN', 'consumer_secret': 'HIDDEN', 'access_token': 'HIDDEN', 'access_secret': 'HIDDEN'}}\n"
     ]
    }
   ],
   "source": [
    "abs_config_dir=os.path.abspath(\"../twitter-wrangler/conf\")\n",
    "with initialize_config_dir(config_dir=abs_config_dir):\n",
    "    cfg = compose(overrides=[\"+application=twitter\"])\n",
    "    print(cfg)"
   ]
  },
  {
   "cell_type": "code",
   "execution_count": null,
   "id": "142718a4-2c4f-4062-bc5a-aee379cea798",
   "metadata": {},
   "outputs": [],
   "source": []
  }
 ],
 "metadata": {
  "kernelspec": {
   "display_name": "Python 3 (ipykernel)",
   "language": "python",
   "name": "python3"
  },
  "language_info": {
   "codemirror_mode": {
    "name": "ipython",
    "version": 3
   },
   "file_extension": ".py",
   "mimetype": "text/x-python",
   "name": "python",
   "nbconvert_exporter": "python",
   "pygments_lexer": "ipython3",
   "version": "3.9.5"
  }
 },
 "nbformat": 4,
 "nbformat_minor": 5
}
