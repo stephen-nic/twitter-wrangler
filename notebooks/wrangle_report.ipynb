{
 "cells": [
  {
   "cell_type": "markdown",
   "id": "13b4983a-bdf0-42d5-aa4f-1a0303d7fbae",
   "metadata": {},
   "source": [
    "# Gathering Data"
   ]
  },
  {
   "cell_type": "markdown",
   "id": "3cd8f39a-7143-48f5-b01c-36ba396abe16",
   "metadata": {},
   "source": [
    "I used the Pandas, Tweepy, and Requests packages to gather data from a downloaded CSV file, the Twitter API, and a Udacity server.\n",
    "\n",
    "- Pandas 'read_csv' function was used to load the downloaded CSV data into a dataframe\n",
    "- Requests 'get' function was used to retrieve the data (payload) from the server.\n",
    "- The "
   ]
  },
  {
   "cell_type": "markdown",
   "id": "68abc2e2-43d8-4db2-a84c-b6eb6806fb77",
   "metadata": {},
   "source": [
    "# Assessing Data"
   ]
  },
  {
   "cell_type": "markdown",
   "id": "f5e92803-c208-4e7e-a29f-5fe9d5308560",
   "metadata": {},
   "source": []
  },
  {
   "cell_type": "markdown",
   "id": "0fa16c12-2a8d-4244-bc19-9f13f9c5251f",
   "metadata": {},
   "source": [
    "# Cleaning Data"
   ]
  },
  {
   "cell_type": "markdown",
   "id": "65aebbcf-b0fe-4d92-8fe3-d1c8c45f8ef2",
   "metadata": {},
   "source": []
  }
 ],
 "metadata": {
  "kernelspec": {
   "display_name": "Python 3 (ipykernel)",
   "language": "python",
   "name": "python3"
  },
  "language_info": {
   "codemirror_mode": {
    "name": "ipython",
    "version": 3
   },
   "file_extension": ".py",
   "mimetype": "text/x-python",
   "name": "python",
   "nbconvert_exporter": "python",
   "pygments_lexer": "ipython3",
   "version": "3.9.5"
  }
 },
 "nbformat": 4,
 "nbformat_minor": 5
}
