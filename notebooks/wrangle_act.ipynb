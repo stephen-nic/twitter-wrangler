{
 "cells": [
  {
   "cell_type": "code",
   "execution_count": 1,
   "id": "14061e69-53c3-4331-954e-c04743d34c28",
   "metadata": {
    "tags": []
   },
   "outputs": [
    {
     "ename": "SyntaxError",
     "evalue": "invalid syntax (1289958204.py, line 4)",
     "output_type": "error",
     "traceback": [
      "\u001b[0;36m  File \u001b[0;32m\"/tmp/ipykernel_145/1289958204.py\"\u001b[0;36m, line \u001b[0;32m4\u001b[0m\n\u001b[0;31m    from twitter-wrangler import Twitter\u001b[0m\n\u001b[0m                ^\u001b[0m\n\u001b[0;31mSyntaxError\u001b[0m\u001b[0;31m:\u001b[0m invalid syntax\n"
     ]
    }
   ],
   "source": [
    "import os\n",
    "from hydra import initialize, initialize_config_module, initialize_config_dir, compose\n",
    "from omegaconf import OmegaConf\n",
    "from twitter-wrangler import Twitter"
   ]
  },
  {
   "cell_type": "code",
   "execution_count": 3,
   "id": "2bd2c0d1-d060-4107-9dc9-e055f4731de4",
   "metadata": {},
   "outputs": [
    {
     "name": "stdout",
     "output_type": "stream",
     "text": [
      "{'application': {'consumer_key': 'HIDDEN', 'consumer_secret': 'HIDDEN', 'access_token': 'HIDDEN', 'access_secret': 'HIDDEN'}}\n"
     ]
    }
   ],
   "source": [
    "abs_config_dir=os.path.abspath(\"../twitter-wrangler/conf\")\n",
    "with initialize_config_dir(config_dir=abs_config_dir):\n",
    "    cfg = compose(overrides=[\"+application=twitter\"])\n",
    "    print(cfg)"
   ]
  },
  {
   "cell_type": "code",
   "execution_count": null,
   "id": "c7dae12b-6b04-4fb9-ad11-db7ae99ed4ed",
   "metadata": {},
   "outputs": [],
   "source": [
    "twitter = "
   ]
  },
  {
   "cell_type": "markdown",
   "id": "ca990ce0-bde1-4543-aa6e-cc5b1ff55915",
   "metadata": {},
   "source": [
    "# Wrangle and Analyse Data"
   ]
  },
  {
   "cell_type": "markdown",
   "id": "677b7b25-ec6a-42f4-b363-3f7c4521626f",
   "metadata": {},
   "source": [
    "## Twitter - Gather"
   ]
  },
  {
   "cell_type": "code",
   "execution_count": null,
   "id": "69cda5d6-9380-48bb-af7f-196224d20a4d",
   "metadata": {},
   "outputs": [],
   "source": []
  },
  {
   "cell_type": "markdown",
   "id": "d178774f-c9ea-47d8-8141-7c79981296bf",
   "metadata": {},
   "source": [
    "## Twitter - Assess"
   ]
  },
  {
   "cell_type": "code",
   "execution_count": null,
   "id": "b76abed1-6043-4165-8b42-c05197987177",
   "metadata": {},
   "outputs": [],
   "source": []
  },
  {
   "cell_type": "markdown",
   "id": "d57084e9-38b4-4a5d-b5ce-8fec4a5ea2bf",
   "metadata": {},
   "source": [
    "## Twitter - Clean"
   ]
  },
  {
   "cell_type": "code",
   "execution_count": null,
   "id": "2a601860-9b15-4878-943a-a4e8add76326",
   "metadata": {},
   "outputs": [],
   "source": []
  }
 ],
 "metadata": {
  "kernelspec": {
   "display_name": "Python 3 (ipykernel)",
   "language": "python",
   "name": "python3"
  },
  "language_info": {
   "codemirror_mode": {
    "name": "ipython",
    "version": 3
   },
   "file_extension": ".py",
   "mimetype": "text/x-python",
   "name": "python",
   "nbconvert_exporter": "python",
   "pygments_lexer": "ipython3",
   "version": "3.9.5"
  }
 },
 "nbformat": 4,
 "nbformat_minor": 5
}
