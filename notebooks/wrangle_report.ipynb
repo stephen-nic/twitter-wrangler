{
 "cells": [
  {
   "cell_type": "markdown",
   "id": "13b4983a-bdf0-42d5-aa4f-1a0303d7fbae",
   "metadata": {},
   "source": [
    "# Gathering Data"
   ]
  },
  {
   "cell_type": "markdown",
   "id": "3cd8f39a-7143-48f5-b01c-36ba396abe16",
   "metadata": {},
   "source": [
    "I used the following packages to gather data from a downloaded CSV file, the Twitter API, and a Udacity server. \n",
    "\n",
    "- Pandas\n",
    "    - I used the Pandas 'read_csv' function to load the downloaded CSV data into a dataframe.\n",
    "- Requests \n",
    "    - I used the Requests 'get' function to retrieve the data (payload) from the Udacity server. I saved the payload to a TSV file using the 'to_csv' function, and subsequently loaded the data into a           Pandas dataframe with the 'read_csv' function.\n",
    "- Tweepy\n",
    "    - I instantiated a Tweepy API object using a config object from the Hydra framework. I then used the 'get_status' function from the API object to retrieve tweets, save them to a JSON file, and load         them into a Pandas dataframe."
   ]
  },
  {
   "cell_type": "markdown",
   "id": "68abc2e2-43d8-4db2-a84c-b6eb6806fb77",
   "metadata": {},
   "source": [
    "# Assessing Data"
   ]
  },
  {
   "cell_type": "markdown",
   "id": "0fdf285e-eb58-4b44-9747-7ab9e871b505",
   "metadata": {},
   "source": [
    "## Visual Assessment"
   ]
  },
  {
   "cell_type": "markdown",
   "id": "f5e92803-c208-4e7e-a29f-5fe9d5308560",
   "metadata": {},
   "source": [
    "I used the Pandas package and Microsoft Excel to visually assess the data. This showed obvious data quality and tidiness issues, such as columns with mostly NULL values and column headers that should be column values.\n",
    "\n",
    "- Pandas\n",
    "    - head\n",
    "    - tail\n",
    "- Microsoft Excel"
   ]
  },
  {
   "cell_type": "markdown",
   "id": "72ed0128-4c91-40d9-b8b7-c3564e4b5240",
   "metadata": {},
   "source": [
    "## Programmatic Assessment"
   ]
  },
  {
   "cell_type": "markdown",
   "id": "f6e1a404-eb78-4964-8115-70a5db6fbcb8",
   "metadata": {},
   "source": [
    "I used the Pandas package to programmatically assess the data. This confirmed my assumptions that most of the values for several columns were null, and some outliers were present in certain columns.\n",
    "\n",
    "- Pandas\n",
    "    - info\n",
    "    - describe\n",
    "    - shape\n",
    "    - value_counts"
   ]
  },
  {
   "cell_type": "markdown",
   "id": "0fa16c12-2a8d-4244-bc19-9f13f9c5251f",
   "metadata": {},
   "source": [
    "# Cleaning Data"
   ]
  },
  {
   "cell_type": "markdown",
   "id": "65aebbcf-b0fe-4d92-8fe3-d1c8c45f8ef2",
   "metadata": {},
   "source": [
    "I used the define, code and test method to list the specify the data issues, code the solution, and verify the results. I successfully corrected data quality and tidiness issues and joined the three tables into a master dataset."
   ]
  },
  {
   "cell_type": "markdown",
   "id": "316e04a3-710d-4403-922c-bd4a2126a28c",
   "metadata": {},
   "source": [
    "# Storing Data and Insights"
   ]
  },
  {
   "cell_type": "markdown",
   "id": "3e761502-7168-4453-ad92-47e57029e5ca",
   "metadata": {},
   "source": [
    "I stored the cleaned data to a CSV file and to a SQLite database for analysis. This meant I could write SQL queries and return the results as a dataframe using the Pandas 'read_sql_query' function. After this it was easy to create plots from the aggregated results using the Pandas 'plot' function. "
   ]
  }
 ],
 "metadata": {
  "kernelspec": {
   "display_name": "Python 3 (ipykernel)",
   "language": "python",
   "name": "python3"
  },
  "language_info": {
   "codemirror_mode": {
    "name": "ipython",
    "version": 3
   },
   "file_extension": ".py",
   "mimetype": "text/x-python",
   "name": "python",
   "nbconvert_exporter": "python",
   "pygments_lexer": "ipython3",
   "version": "3.9.5"
  }
 },
 "nbformat": 4,
 "nbformat_minor": 5
}
